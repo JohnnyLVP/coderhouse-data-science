{
 "cells": [
  {
   "cell_type": "markdown",
   "id": "2822845d",
   "metadata": {},
   "source": [
    "# [Solucion] Programacion con Arrays"
   ]
  },
  {
   "cell_type": "markdown",
   "id": "c5753535",
   "metadata": {},
   "source": [
    "### 1. Generar un array aleatorio de 100 elementos. Calcular la mediana correspondiente"
   ]
  },
  {
   "cell_type": "code",
   "execution_count": 1,
   "id": "6c48c3fb",
   "metadata": {},
   "outputs": [],
   "source": [
    "import numpy as np"
   ]
  },
  {
   "cell_type": "code",
   "execution_count": 2,
   "id": "c09b6f3a",
   "metadata": {},
   "outputs": [],
   "source": [
    "def getRandomArray(maxNum:int) -> int:\n",
    "    \"\"\"Se obtiene un Numpy array con numeros random y asignado el maximo numero con el que se generaran \n",
    "    los valores aleatorios\n",
    "    \"\"\"\n",
    "    \n",
    "    array = np.random.randint(1,maxNum,size=100)\n",
    "    print(f\"Random narray: {array}\")\n",
    "    \n",
    "    return int(np.median(array))"
   ]
  },
  {
   "cell_type": "code",
   "execution_count": 3,
   "id": "5a645d65",
   "metadata": {
    "scrolled": false
   },
   "outputs": [
    {
     "name": "stdout",
     "output_type": "stream",
     "text": [
      "Random narray: [46 37 48 29 43 19 19 26 28  8 46 30 32 34  8 24  1 38 46 22 20  1 23 16\n",
      " 11 16 21 13 17 15 15 35 39 42 21 49 41 22 21 13 36 12 48  9 37 12 22 34\n",
      "  9 18 15 34 40 24 37 20 27 30 14 37 47 12 21 21 48 16 23 14 36  9 47 28\n",
      "  5 19 11  3 47 41 35 21  3 48 15 38  4 41 16  7 20 27 15 49 35 31 19 14\n",
      "  3 38 44 17]\n",
      "Median of Random Array: 22\n"
     ]
    }
   ],
   "source": [
    "med = getRandomArray(50)\n",
    "print(f\"Median of Random Array: {med}\")"
   ]
  },
  {
   "cell_type": "code",
   "execution_count": 4,
   "id": "ae5ed6df",
   "metadata": {},
   "outputs": [
    {
     "name": "stdout",
     "output_type": "stream",
     "text": [
      "Random narray: [ 760  551 1395  208 1080 1141 1404  675  455  899  791  927  914  234\n",
      " 1278  216 1116 1242  233 1197   97  244  130  905  518  347   15  391\n",
      "  991  668   20 1438 1037 1369   42 1235  416  212    2 1312 1111  498\n",
      " 1025 1169 1328 1378  351  510 1492 1126  473  658  449  460 1391  984\n",
      " 1432  622  514  325  651  980 1045  938  825  866  718  490   52 1499\n",
      " 1131 1052  175 1291  352  760  694  318 1020   28 1199  281 1231  473\n",
      " 1185  474 1351  722 1018  154  813 1244 1418 1313  264  632 1461    7\n",
      " 1436  346]\n",
      "Median of Random Array: 775\n"
     ]
    }
   ],
   "source": [
    "med = getRandomArray(1500)\n",
    "print(f\"Median of Random Array: {med}\")"
   ]
  },
  {
   "cell_type": "markdown",
   "id": "14ae6fef",
   "metadata": {},
   "source": [
    "### 2. Recordar los ejercicios con funciones para cálculo de factorial y suma de serie de la Clase 02. Repetir ambos ejercicios, pero ahora utilizar las nuevas operaciones aprendidas con los ndarrays."
   ]
  },
  {
   "cell_type": "code",
   "execution_count": 5,
   "id": "a822513d",
   "metadata": {},
   "outputs": [],
   "source": [
    "def getFactorial(num: int) -> int:\n",
    "    \"\"\"Devuelve el factorial de num\n",
    "    :param num: Numero entero al cual se le calculara el factorial\n",
    "    :return factorial\n",
    "    \"\"\"\n",
    "    fact = np.array(range(num)) if num==0 else np.array(range(1,num+1))\n",
    "    return int(np.prod(fact))\n",
    "    "
   ]
  },
  {
   "cell_type": "code",
   "execution_count": 6,
   "id": "5fc9bbdf",
   "metadata": {},
   "outputs": [
    {
     "data": {
      "text/plain": [
       "6"
      ]
     },
     "execution_count": 6,
     "metadata": {},
     "output_type": "execute_result"
    }
   ],
   "source": [
    "fact = getFactorial(3)\n",
    "fact"
   ]
  },
  {
   "cell_type": "code",
   "execution_count": 7,
   "id": "1f5c8691",
   "metadata": {},
   "outputs": [],
   "source": [
    "def getSumatoria(num1:int, num2:int) -> int: \n",
    "    \"\"\"Obtiene la sumatoria de todos los numeros ubicados entre ambos numeros ingresados como parametros basados\n",
    "        en la consigna del ejercicio\n",
    "    :param num1: Numero entero con el que se iniciara la sumatoria en serie\n",
    "    :param num2: Numero entero con el que se finalizara la sumatoria en seria, y debe cumplir que tiene que ser mayor\n",
    "                que el primer numero\n",
    "    :return sumatoria: Resultado de la suma de todos los numero que se encuentran entre los parametros\n",
    "    \n",
    "    \"\"\"\n",
    "    if num2>num1:\n",
    "        sumArray = np.array(range(num1,num2+1))\n",
    "    else: \n",
    "        raise ValueError(f\"Valor ingresado {num2}, es menor o igual que {num1}, no cumple con la regla de la consigna\")\n",
    "        \n",
    "    return sumArray.sum()"
   ]
  },
  {
   "cell_type": "code",
   "execution_count": 8,
   "id": "e828dc58",
   "metadata": {},
   "outputs": [
    {
     "data": {
      "text/plain": [
       "10"
      ]
     },
     "execution_count": 8,
     "metadata": {},
     "output_type": "execute_result"
    }
   ],
   "source": [
    "suma = getSumatoria(1,4)\n",
    "suma"
   ]
  },
  {
   "cell_type": "code",
   "execution_count": 9,
   "id": "13327477",
   "metadata": {
    "scrolled": false
   },
   "outputs": [
    {
     "ename": "ValueError",
     "evalue": "Valor ingresado 4, es menor o igual que 4, no cumple con la regla de la consigna",
     "output_type": "error",
     "traceback": [
      "\u001b[0;31m---------------------------------------------------------------------------\u001b[0m",
      "\u001b[0;31mValueError\u001b[0m                                Traceback (most recent call last)",
      "\u001b[0;32m<ipython-input-9-30bda5b1e25a>\u001b[0m in \u001b[0;36m<module>\u001b[0;34m\u001b[0m\n\u001b[0;32m----> 1\u001b[0;31m \u001b[0msuma\u001b[0m \u001b[0;34m=\u001b[0m \u001b[0mgetSumatoria\u001b[0m\u001b[0;34m(\u001b[0m\u001b[0;36m4\u001b[0m\u001b[0;34m,\u001b[0m\u001b[0;36m4\u001b[0m\u001b[0;34m)\u001b[0m\u001b[0;34m\u001b[0m\u001b[0;34m\u001b[0m\u001b[0m\n\u001b[0m\u001b[1;32m      2\u001b[0m \u001b[0msuma\u001b[0m\u001b[0;34m\u001b[0m\u001b[0;34m\u001b[0m\u001b[0m\n",
      "\u001b[0;32m<ipython-input-7-90d01cddf265>\u001b[0m in \u001b[0;36mgetSumatoria\u001b[0;34m(num1, num2)\u001b[0m\n\u001b[1;32m     11\u001b[0m         \u001b[0msumArray\u001b[0m \u001b[0;34m=\u001b[0m \u001b[0mnp\u001b[0m\u001b[0;34m.\u001b[0m\u001b[0marray\u001b[0m\u001b[0;34m(\u001b[0m\u001b[0mrange\u001b[0m\u001b[0;34m(\u001b[0m\u001b[0mnum1\u001b[0m\u001b[0;34m,\u001b[0m\u001b[0mnum2\u001b[0m\u001b[0;34m+\u001b[0m\u001b[0;36m1\u001b[0m\u001b[0;34m)\u001b[0m\u001b[0;34m)\u001b[0m\u001b[0;34m\u001b[0m\u001b[0;34m\u001b[0m\u001b[0m\n\u001b[1;32m     12\u001b[0m     \u001b[0;32melse\u001b[0m\u001b[0;34m:\u001b[0m\u001b[0;34m\u001b[0m\u001b[0;34m\u001b[0m\u001b[0m\n\u001b[0;32m---> 13\u001b[0;31m         \u001b[0;32mraise\u001b[0m \u001b[0mValueError\u001b[0m\u001b[0;34m(\u001b[0m\u001b[0;34mf\"Valor ingresado {num2}, es menor o igual que {num1}, no cumple con la regla de la consigna\"\u001b[0m\u001b[0;34m)\u001b[0m\u001b[0;34m\u001b[0m\u001b[0;34m\u001b[0m\u001b[0m\n\u001b[0m\u001b[1;32m     14\u001b[0m \u001b[0;34m\u001b[0m\u001b[0m\n\u001b[1;32m     15\u001b[0m     \u001b[0;32mreturn\u001b[0m \u001b[0msumArray\u001b[0m\u001b[0;34m.\u001b[0m\u001b[0msum\u001b[0m\u001b[0;34m(\u001b[0m\u001b[0;34m)\u001b[0m\u001b[0;34m\u001b[0m\u001b[0;34m\u001b[0m\u001b[0m\n",
      "\u001b[0;31mValueError\u001b[0m: Valor ingresado 4, es menor o igual que 4, no cumple con la regla de la consigna"
     ]
    }
   ],
   "source": [
    "suma = getSumatoria(4,4)\n",
    "suma"
   ]
  },
  {
   "cell_type": "code",
   "execution_count": 10,
   "id": "ddd96936",
   "metadata": {
    "scrolled": true
   },
   "outputs": [
    {
     "ename": "ValueError",
     "evalue": "Valor ingresado 4, es menor o igual que 5, no cumple con la regla de la consigna",
     "output_type": "error",
     "traceback": [
      "\u001b[0;31m---------------------------------------------------------------------------\u001b[0m",
      "\u001b[0;31mValueError\u001b[0m                                Traceback (most recent call last)",
      "\u001b[0;32m<ipython-input-10-7d029e116d9b>\u001b[0m in \u001b[0;36m<module>\u001b[0;34m\u001b[0m\n\u001b[0;32m----> 1\u001b[0;31m \u001b[0msuma\u001b[0m \u001b[0;34m=\u001b[0m \u001b[0mgetSumatoria\u001b[0m\u001b[0;34m(\u001b[0m\u001b[0;36m5\u001b[0m\u001b[0;34m,\u001b[0m\u001b[0;36m4\u001b[0m\u001b[0;34m)\u001b[0m\u001b[0;34m\u001b[0m\u001b[0;34m\u001b[0m\u001b[0m\n\u001b[0m\u001b[1;32m      2\u001b[0m \u001b[0msuma\u001b[0m\u001b[0;34m\u001b[0m\u001b[0;34m\u001b[0m\u001b[0m\n",
      "\u001b[0;32m<ipython-input-7-90d01cddf265>\u001b[0m in \u001b[0;36mgetSumatoria\u001b[0;34m(num1, num2)\u001b[0m\n\u001b[1;32m     11\u001b[0m         \u001b[0msumArray\u001b[0m \u001b[0;34m=\u001b[0m \u001b[0mnp\u001b[0m\u001b[0;34m.\u001b[0m\u001b[0marray\u001b[0m\u001b[0;34m(\u001b[0m\u001b[0mrange\u001b[0m\u001b[0;34m(\u001b[0m\u001b[0mnum1\u001b[0m\u001b[0;34m,\u001b[0m\u001b[0mnum2\u001b[0m\u001b[0;34m+\u001b[0m\u001b[0;36m1\u001b[0m\u001b[0;34m)\u001b[0m\u001b[0;34m)\u001b[0m\u001b[0;34m\u001b[0m\u001b[0;34m\u001b[0m\u001b[0m\n\u001b[1;32m     12\u001b[0m     \u001b[0;32melse\u001b[0m\u001b[0;34m:\u001b[0m\u001b[0;34m\u001b[0m\u001b[0;34m\u001b[0m\u001b[0m\n\u001b[0;32m---> 13\u001b[0;31m         \u001b[0;32mraise\u001b[0m \u001b[0mValueError\u001b[0m\u001b[0;34m(\u001b[0m\u001b[0;34mf\"Valor ingresado {num2}, es menor o igual que {num1}, no cumple con la regla de la consigna\"\u001b[0m\u001b[0;34m)\u001b[0m\u001b[0;34m\u001b[0m\u001b[0;34m\u001b[0m\u001b[0m\n\u001b[0m\u001b[1;32m     14\u001b[0m \u001b[0;34m\u001b[0m\u001b[0m\n\u001b[1;32m     15\u001b[0m     \u001b[0;32mreturn\u001b[0m \u001b[0msumArray\u001b[0m\u001b[0;34m.\u001b[0m\u001b[0msum\u001b[0m\u001b[0;34m(\u001b[0m\u001b[0;34m)\u001b[0m\u001b[0;34m\u001b[0m\u001b[0;34m\u001b[0m\u001b[0m\n",
      "\u001b[0;31mValueError\u001b[0m: Valor ingresado 4, es menor o igual que 5, no cumple con la regla de la consigna"
     ]
    }
   ],
   "source": [
    "suma = getSumatoria(5,4)\n",
    "suma"
   ]
  },
  {
   "cell_type": "markdown",
   "id": "6c7632ee",
   "metadata": {},
   "source": [
    "### 3. En este link se provee un archivo con los resultados de la Encuesta de Sueldos de Openqube de Febrero 2020 (https://sueldos.openqube.io/encuesta-sueldos-2020.02/ ), Calcular y comparar media y mediana de los sueldos netos.\n"
   ]
  },
  {
   "cell_type": "code",
   "execution_count": 1,
   "id": "511800e1",
   "metadata": {},
   "outputs": [],
   "source": [
    "import pandas as pd\n",
    "import numpy as np\n",
    "import ast\n",
    "\n",
    "def getArrayFromDrive():\n",
    "    \"\"\"La siguiente funcion obtiene el archivo en google Spreadsheet, lo transforma en un dataframe \n",
    "    y obtiene la columna a trabajar que es la columna de Salario mensual NETO y devuelve un numpy array luego \n",
    "    de haber borrado los valores nulos de la columna.\n",
    "    \n",
    "    \"\"\"\n",
    "    sheet_url = \"https://docs.google.com/spreadsheets/d/15Stnum8mI9QdwF9ZiPFCe3_qG9XyZyNzmOSIDunzPjA/view#gid=255849258\"\n",
    "    url = sheet_url.replace(\"/view#gid=\", \"/export?format=csv&gid=\")\n",
    "    df = pd.read_csv(url)\n",
    "    \n",
    "    return df[\"Salario mensual NETO (en tu moneda local)\"].dropna().to_numpy()\n",
    "\n",
    "def getSalaryResults():\n",
    "    \"\"\"La siguiente funcion obtiene el numpy array de los salarios Netos y genera la mediana y media del array.\n",
    "    \"\"\"\n",
    "    salary = getArrayFromDrive()\n",
    "    print(f'Tipo de dato de Salary: {type(salary)}')\n",
    "    \n",
    "    #Se obtendra una lista con los elementos que tengan mas de 2 '.' al no poder ser traducidos como enteros o float\n",
    "    trash = [item for item in salary if item.count('.')>=2]\n",
    "    print(f'Lista con datos basura: {trash}')\n",
    "    \n",
    "    #Se borrara el o los elementos obtenidos en la lista de trash\n",
    "    salary = np.delete(salary, np.argwhere(salary == trash))\n",
    "    \n",
    "    #El numpy array tiene elementos de tipo string ya que estaba con diferentes valores que podrian ser vacios, enteros, float.\n",
    "    #Se procedera a trasformar a float el array una vez que esta limpio a fin de poder hacer los calculos y comparaciones\n",
    "    salary = salary.astype('float64')\n",
    "    \n",
    "    return np.median(salary), salary.mean(), np.median(salary)>=salary.mean() \n"
   ]
  },
  {
   "cell_type": "code",
   "execution_count": 2,
   "id": "fb2a5510",
   "metadata": {},
   "outputs": [
    {
     "name": "stdout",
     "output_type": "stream",
     "text": [
      "Tipo de dato de Salary: <class 'numpy.ndarray'>\n",
      "Lista con datos basura: ['39.434.784']\n"
     ]
    }
   ],
   "source": [
    "med, avg, comp = getSalaryResults()"
   ]
  },
  {
   "cell_type": "code",
   "execution_count": 3,
   "id": "f6801b65",
   "metadata": {},
   "outputs": [
    {
     "name": "stdout",
     "output_type": "stream",
     "text": [
      "Mediana de los Salarios Netos: 76000.0\n",
      "Media de los Salarios Netos: 19306004.37798064\n",
      "Comparacion ** Mediana >= Media ** : False\n"
     ]
    }
   ],
   "source": [
    "print(f'Mediana de los Salarios Netos: {med}')\n",
    "print(f'Media de los Salarios Netos: {avg}')\n",
    "print(f'Comparacion ** Mediana >= Media ** : {comp}')"
   ]
  }
 ],
 "metadata": {
  "kernelspec": {
   "display_name": "Python 3",
   "language": "python",
   "name": "python3"
  },
  "language_info": {
   "codemirror_mode": {
    "name": "ipython",
    "version": 3
   },
   "file_extension": ".py",
   "mimetype": "text/x-python",
   "name": "python",
   "nbconvert_exporter": "python",
   "pygments_lexer": "ipython3",
   "version": "3.8.10"
  }
 },
 "nbformat": 4,
 "nbformat_minor": 5
}
