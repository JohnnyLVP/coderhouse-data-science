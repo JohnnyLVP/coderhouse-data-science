{
 "cells": [
  {
   "cell_type": "markdown",
   "id": "c7dd3a36",
   "metadata": {},
   "source": [
    "# Desafio Coder\n",
    "\n",
    "## Consigna 1\n",
    "\n",
    "Escribir una función para calcular el factorial de un número cualquiera"
   ]
  },
  {
   "cell_type": "markdown",
   "id": "a1e93e69",
   "metadata": {},
   "source": [
    "### Solucion - Consigna 1"
   ]
  },
  {
   "cell_type": "code",
   "execution_count": 4,
   "id": "f694f392",
   "metadata": {},
   "outputs": [],
   "source": [
    "def getFactorial(num:int) -> int: \n",
    "    \"\"\"Devuelve el factorial de num\n",
    "    :param num: Numero entero al cual se le calculara el factorial\n",
    "    :return factorial\n",
    "    \"\"\"\n",
    "    factorial = 1\n",
    "    for i in range(1,num+1):\n",
    "        factorial = factorial*i\n",
    "    return factorial"
   ]
  },
  {
   "cell_type": "markdown",
   "id": "b7ca20bb",
   "metadata": {},
   "source": [
    "### Probando Solucion - Consigna 1"
   ]
  },
  {
   "cell_type": "code",
   "execution_count": 7,
   "id": "99255aef",
   "metadata": {},
   "outputs": [
    {
     "name": "stdout",
     "output_type": "stream",
     "text": [
      "Factorial de 4 es: 24\n"
     ]
    }
   ],
   "source": [
    "numb = 4\n",
    "fct = getFactorial(numb)\n",
    "print(f\"Factorial de {numb} es: {fct}\")"
   ]
  },
  {
   "cell_type": "code",
   "execution_count": 8,
   "id": "8431c729",
   "metadata": {},
   "outputs": [
    {
     "name": "stdout",
     "output_type": "stream",
     "text": [
      "Factorial de 0 es: 1\n"
     ]
    }
   ],
   "source": [
    "numb = 0\n",
    "fct = getFactorial(numb)\n",
    "print(f\"Factorial de {numb} es: {fct}\")"
   ]
  },
  {
   "cell_type": "markdown",
   "id": "cdb49351",
   "metadata": {},
   "source": [
    "## Consigna 2\n",
    "\n",
    "Escribir una función para calcular la suma de una serie comenzando por un número cualquiera y terminando en otro número que debe ser mayor al primero."
   ]
  },
  {
   "cell_type": "markdown",
   "id": "d4b4fe69",
   "metadata": {},
   "source": [
    "### Solucion - Consigna 2"
   ]
  },
  {
   "cell_type": "code",
   "execution_count": 17,
   "id": "ffbcf4cb",
   "metadata": {},
   "outputs": [],
   "source": [
    "def getSumatoria(num1:int, num2: int) -> int:\n",
    "    \"\"\"Obtiene la sumatoria de todos los numeros ubicados entre ambos numeros ingresados como parametros basados\n",
    "        en la consigna del ejercicio\n",
    "    :param num1: Numero entero con el que se iniciara la sumatoria en serie\n",
    "    :param num2: Numero entero con el que se finalizara la sumatoria en seria, y debe cumplir que tiene que ser mayor\n",
    "                que el primer numero\n",
    "    :return sumatoria: Resultado de la suma de todos los numero que se encuentran entre los parametros\n",
    "    \n",
    "    \"\"\"\n",
    "    if num1 < num2:\n",
    "        sumatoria = 0\n",
    "        for i in range(num1, num2+1):\n",
    "            sumatoria += i\n",
    "    else:\n",
    "        raise ValueError(f\"Valor ingresado {num2}, es menor o igual que {num1}, no cumple con la regla de la consigna\")\n",
    "        \n",
    "    return sumatoria"
   ]
  },
  {
   "cell_type": "markdown",
   "id": "de98f49e",
   "metadata": {},
   "source": [
    "### Probando Solucion - Consigna 2"
   ]
  },
  {
   "cell_type": "code",
   "execution_count": 18,
   "id": "06529d4a",
   "metadata": {},
   "outputs": [
    {
     "name": "stdout",
     "output_type": "stream",
     "text": [
      "Valor de la sumatoria: 14\n"
     ]
    }
   ],
   "source": [
    "value = getSumatoria(2,5)\n",
    "print(f\"Valor de la sumatoria: {value}\")"
   ]
  },
  {
   "cell_type": "code",
   "execution_count": 13,
   "id": "c2a2bb8a",
   "metadata": {},
   "outputs": [
    {
     "name": "stdout",
     "output_type": "stream",
     "text": [
      "Valor de la sumatoria: 20090\n"
     ]
    }
   ],
   "source": [
    "value = getSumatoria(5,200)\n",
    "print(f\"Valor de la sumatoria: {value}\")"
   ]
  },
  {
   "cell_type": "code",
   "execution_count": 14,
   "id": "6981b761",
   "metadata": {},
   "outputs": [
    {
     "ename": "ValueError",
     "evalue": "Valor ingresado 5, es menor o igual que 10, no cumple con la regla de la consigna",
     "output_type": "error",
     "traceback": [
      "\u001b[0;31m---------------------------------------------------------------------------\u001b[0m",
      "\u001b[0;31mValueError\u001b[0m                                Traceback (most recent call last)",
      "\u001b[0;32m<ipython-input-14-e656140540c4>\u001b[0m in \u001b[0;36m<module>\u001b[0;34m\u001b[0m\n\u001b[0;32m----> 1\u001b[0;31m \u001b[0mvalue\u001b[0m \u001b[0;34m=\u001b[0m \u001b[0mgetSumatoria\u001b[0m\u001b[0;34m(\u001b[0m\u001b[0;36m10\u001b[0m\u001b[0;34m,\u001b[0m\u001b[0;36m5\u001b[0m\u001b[0;34m)\u001b[0m\u001b[0;34m\u001b[0m\u001b[0;34m\u001b[0m\u001b[0m\n\u001b[0m\u001b[1;32m      2\u001b[0m \u001b[0mprint\u001b[0m\u001b[0;34m(\u001b[0m\u001b[0;34mf\"Valor de la sumatoria: {value}\"\u001b[0m\u001b[0;34m)\u001b[0m\u001b[0;34m\u001b[0m\u001b[0;34m\u001b[0m\u001b[0m\n",
      "\u001b[0;32m<ipython-input-11-78ae299ddfec>\u001b[0m in \u001b[0;36mgetSumatoria\u001b[0;34m(num1, num2)\u001b[0m\n\u001b[1;32m      8\u001b[0m             \u001b[0msumatoria\u001b[0m \u001b[0;34m+=\u001b[0m \u001b[0mi\u001b[0m\u001b[0;34m\u001b[0m\u001b[0;34m\u001b[0m\u001b[0m\n\u001b[1;32m      9\u001b[0m     \u001b[0;32melse\u001b[0m\u001b[0;34m:\u001b[0m\u001b[0;34m\u001b[0m\u001b[0;34m\u001b[0m\u001b[0m\n\u001b[0;32m---> 10\u001b[0;31m         \u001b[0;32mraise\u001b[0m \u001b[0mValueError\u001b[0m\u001b[0;34m(\u001b[0m\u001b[0;34mf\"Valor ingresado {num2}, es menor o igual que {num1}, no cumple con la regla de la consigna\"\u001b[0m\u001b[0;34m)\u001b[0m\u001b[0;34m\u001b[0m\u001b[0;34m\u001b[0m\u001b[0m\n\u001b[0m\u001b[1;32m     11\u001b[0m \u001b[0;34m\u001b[0m\u001b[0m\n\u001b[1;32m     12\u001b[0m     \u001b[0;32mreturn\u001b[0m \u001b[0msumatoria\u001b[0m\u001b[0;34m\u001b[0m\u001b[0;34m\u001b[0m\u001b[0m\n",
      "\u001b[0;31mValueError\u001b[0m: Valor ingresado 5, es menor o igual que 10, no cumple con la regla de la consigna"
     ]
    }
   ],
   "source": [
    "value = getSumatoria(10,5)\n",
    "print(f\"Valor de la sumatoria: {value}\")"
   ]
  },
  {
   "cell_type": "code",
   "execution_count": 15,
   "id": "8f718795",
   "metadata": {},
   "outputs": [
    {
     "ename": "ValueError",
     "evalue": "Valor ingresado 10, es menor o igual que 10, no cumple con la regla de la consigna",
     "output_type": "error",
     "traceback": [
      "\u001b[0;31m---------------------------------------------------------------------------\u001b[0m",
      "\u001b[0;31mValueError\u001b[0m                                Traceback (most recent call last)",
      "\u001b[0;32m<ipython-input-15-c99989ff7633>\u001b[0m in \u001b[0;36m<module>\u001b[0;34m\u001b[0m\n\u001b[0;32m----> 1\u001b[0;31m \u001b[0mvalue\u001b[0m \u001b[0;34m=\u001b[0m \u001b[0mgetSumatoria\u001b[0m\u001b[0;34m(\u001b[0m\u001b[0;36m10\u001b[0m\u001b[0;34m,\u001b[0m\u001b[0;36m10\u001b[0m\u001b[0;34m)\u001b[0m\u001b[0;34m\u001b[0m\u001b[0;34m\u001b[0m\u001b[0m\n\u001b[0m\u001b[1;32m      2\u001b[0m \u001b[0mprint\u001b[0m\u001b[0;34m(\u001b[0m\u001b[0;34mf\"Valor de la sumatoria: {value}\"\u001b[0m\u001b[0;34m)\u001b[0m\u001b[0;34m\u001b[0m\u001b[0;34m\u001b[0m\u001b[0m\n",
      "\u001b[0;32m<ipython-input-11-78ae299ddfec>\u001b[0m in \u001b[0;36mgetSumatoria\u001b[0;34m(num1, num2)\u001b[0m\n\u001b[1;32m      8\u001b[0m             \u001b[0msumatoria\u001b[0m \u001b[0;34m+=\u001b[0m \u001b[0mi\u001b[0m\u001b[0;34m\u001b[0m\u001b[0;34m\u001b[0m\u001b[0m\n\u001b[1;32m      9\u001b[0m     \u001b[0;32melse\u001b[0m\u001b[0;34m:\u001b[0m\u001b[0;34m\u001b[0m\u001b[0;34m\u001b[0m\u001b[0m\n\u001b[0;32m---> 10\u001b[0;31m         \u001b[0;32mraise\u001b[0m \u001b[0mValueError\u001b[0m\u001b[0;34m(\u001b[0m\u001b[0;34mf\"Valor ingresado {num2}, es menor o igual que {num1}, no cumple con la regla de la consigna\"\u001b[0m\u001b[0;34m)\u001b[0m\u001b[0;34m\u001b[0m\u001b[0;34m\u001b[0m\u001b[0m\n\u001b[0m\u001b[1;32m     11\u001b[0m \u001b[0;34m\u001b[0m\u001b[0m\n\u001b[1;32m     12\u001b[0m     \u001b[0;32mreturn\u001b[0m \u001b[0msumatoria\u001b[0m\u001b[0;34m\u001b[0m\u001b[0;34m\u001b[0m\u001b[0m\n",
      "\u001b[0;31mValueError\u001b[0m: Valor ingresado 10, es menor o igual que 10, no cumple con la regla de la consigna"
     ]
    }
   ],
   "source": [
    "value = getSumatoria(10,10)\n",
    "print(f\"Valor de la sumatoria: {value}\")"
   ]
  }
 ],
 "metadata": {
  "kernelspec": {
   "display_name": "Python 3",
   "language": "python",
   "name": "python3"
  },
  "language_info": {
   "codemirror_mode": {
    "name": "ipython",
    "version": 3
   },
   "file_extension": ".py",
   "mimetype": "text/x-python",
   "name": "python",
   "nbconvert_exporter": "python",
   "pygments_lexer": "ipython3",
   "version": "3.8.10"
  }
 },
 "nbformat": 4,
 "nbformat_minor": 5
}
